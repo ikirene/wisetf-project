{
 "cells": [
  {
   "cell_type": "code",
   "execution_count": 115,
   "metadata": {},
   "outputs": [],
   "source": [
    "import pandas as pd\n",
    "import pycaret\n",
    "import numpy as np\n",
    "import matplotlib.pyplot as plt"
   ]
  },
  {
   "cell_type": "code",
   "execution_count": 116,
   "metadata": {},
   "outputs": [],
   "source": [
    "data = pd.read_csv('etfs_dataset_modelling.csv')"
   ]
  },
  {
   "cell_type": "code",
   "execution_count": 117,
   "metadata": {},
   "outputs": [],
   "source": [
    "data.dropna(inplace=True)"
   ]
  },
  {
   "cell_type": "markdown",
   "metadata": {},
   "source": [
    "#### Preprocessing and cleaning for Time Series (hacer función o pipeline)"
   ]
  },
  {
   "cell_type": "code",
   "execution_count": 118,
   "metadata": {},
   "outputs": [
    {
     "data": {
      "text/html": [
       "<div>\n",
       "<style scoped>\n",
       "    .dataframe tbody tr th:only-of-type {\n",
       "        vertical-align: middle;\n",
       "    }\n",
       "\n",
       "    .dataframe tbody tr th {\n",
       "        vertical-align: top;\n",
       "    }\n",
       "\n",
       "    .dataframe thead th {\n",
       "        text-align: right;\n",
       "    }\n",
       "</style>\n",
       "<table border=\"1\" class=\"dataframe\">\n",
       "  <thead>\n",
       "    <tr style=\"text-align: right;\">\n",
       "      <th></th>\n",
       "      <th>Series</th>\n",
       "      <th>Ticker</th>\n",
       "      <th>Date</th>\n",
       "      <th>Open</th>\n",
       "      <th>High</th>\n",
       "      <th>Low</th>\n",
       "      <th>Close</th>\n",
       "      <th>Volume</th>\n",
       "      <th>Dividends</th>\n",
       "      <th>Stock Splits</th>\n",
       "      <th>RSI_9</th>\n",
       "      <th>RSI_14</th>\n",
       "      <th>RSI_25</th>\n",
       "      <th>ewma_7</th>\n",
       "      <th>ewma_50</th>\n",
       "      <th>ewma_200</th>\n",
       "      <th>Close_target</th>\n",
       "    </tr>\n",
       "  </thead>\n",
       "  <tbody>\n",
       "    <tr>\n",
       "      <th>25</th>\n",
       "      <td>25</td>\n",
       "      <td>FGDL</td>\n",
       "      <td>2022-08-05 00:00:00-04:00</td>\n",
       "      <td>23.820000</td>\n",
       "      <td>23.820000</td>\n",
       "      <td>23.768000</td>\n",
       "      <td>23.768000</td>\n",
       "      <td>210200.0</td>\n",
       "      <td>0.0</td>\n",
       "      <td>0.0</td>\n",
       "      <td>96.519827</td>\n",
       "      <td>57.326070</td>\n",
       "      <td>0.000000</td>\n",
       "      <td>23.655462</td>\n",
       "      <td>23.651515</td>\n",
       "      <td>23.995224</td>\n",
       "      <td>23.952000</td>\n",
       "    </tr>\n",
       "    <tr>\n",
       "      <th>26</th>\n",
       "      <td>26</td>\n",
       "      <td>FGDL</td>\n",
       "      <td>2022-08-08 00:00:00-04:00</td>\n",
       "      <td>23.900999</td>\n",
       "      <td>23.952000</td>\n",
       "      <td>23.900999</td>\n",
       "      <td>23.952000</td>\n",
       "      <td>200.0</td>\n",
       "      <td>0.0</td>\n",
       "      <td>0.0</td>\n",
       "      <td>100.000000</td>\n",
       "      <td>62.375775</td>\n",
       "      <td>0.000000</td>\n",
       "      <td>23.729596</td>\n",
       "      <td>23.663299</td>\n",
       "      <td>23.994794</td>\n",
       "      <td>24.049999</td>\n",
       "    </tr>\n",
       "    <tr>\n",
       "      <th>27</th>\n",
       "      <td>27</td>\n",
       "      <td>FGDL</td>\n",
       "      <td>2022-08-09 00:00:00-04:00</td>\n",
       "      <td>24.016001</td>\n",
       "      <td>24.070000</td>\n",
       "      <td>24.016001</td>\n",
       "      <td>24.049999</td>\n",
       "      <td>11300.0</td>\n",
       "      <td>0.0</td>\n",
       "      <td>0.0</td>\n",
       "      <td>100.000000</td>\n",
       "      <td>67.369977</td>\n",
       "      <td>38.395312</td>\n",
       "      <td>23.809697</td>\n",
       "      <td>23.678464</td>\n",
       "      <td>23.995344</td>\n",
       "      <td>23.975000</td>\n",
       "    </tr>\n",
       "    <tr>\n",
       "      <th>28</th>\n",
       "      <td>28</td>\n",
       "      <td>FGDL</td>\n",
       "      <td>2022-08-10 00:00:00-04:00</td>\n",
       "      <td>23.972000</td>\n",
       "      <td>23.975000</td>\n",
       "      <td>23.972000</td>\n",
       "      <td>23.975000</td>\n",
       "      <td>200.0</td>\n",
       "      <td>0.0</td>\n",
       "      <td>0.0</td>\n",
       "      <td>100.000000</td>\n",
       "      <td>78.593118</td>\n",
       "      <td>62.521736</td>\n",
       "      <td>23.851023</td>\n",
       "      <td>23.690093</td>\n",
       "      <td>23.995141</td>\n",
       "      <td>23.913000</td>\n",
       "    </tr>\n",
       "    <tr>\n",
       "      <th>29</th>\n",
       "      <td>29</td>\n",
       "      <td>FGDL</td>\n",
       "      <td>2022-08-11 00:00:00-04:00</td>\n",
       "      <td>23.913000</td>\n",
       "      <td>23.913000</td>\n",
       "      <td>23.913000</td>\n",
       "      <td>23.913000</td>\n",
       "      <td>0.0</td>\n",
       "      <td>0.0</td>\n",
       "      <td>0.0</td>\n",
       "      <td>100.000000</td>\n",
       "      <td>89.394880</td>\n",
       "      <td>72.365015</td>\n",
       "      <td>23.866517</td>\n",
       "      <td>23.698834</td>\n",
       "      <td>23.994324</td>\n",
       "      <td>24.110001</td>\n",
       "    </tr>\n",
       "    <tr>\n",
       "      <th>...</th>\n",
       "      <td>...</td>\n",
       "      <td>...</td>\n",
       "      <td>...</td>\n",
       "      <td>...</td>\n",
       "      <td>...</td>\n",
       "      <td>...</td>\n",
       "      <td>...</td>\n",
       "      <td>...</td>\n",
       "      <td>...</td>\n",
       "      <td>...</td>\n",
       "      <td>...</td>\n",
       "      <td>...</td>\n",
       "      <td>...</td>\n",
       "      <td>...</td>\n",
       "      <td>...</td>\n",
       "      <td>...</td>\n",
       "      <td>...</td>\n",
       "    </tr>\n",
       "    <tr>\n",
       "      <th>3571480</th>\n",
       "      <td>3571480</td>\n",
       "      <td>AUGT</td>\n",
       "      <td>2024-07-02 00:00:00-04:00</td>\n",
       "      <td>29.120001</td>\n",
       "      <td>29.195000</td>\n",
       "      <td>29.120001</td>\n",
       "      <td>29.195000</td>\n",
       "      <td>200.0</td>\n",
       "      <td>0.0</td>\n",
       "      <td>0.0</td>\n",
       "      <td>100.000000</td>\n",
       "      <td>100.000000</td>\n",
       "      <td>100.000000</td>\n",
       "      <td>29.097374</td>\n",
       "      <td>28.455972</td>\n",
       "      <td>26.980250</td>\n",
       "      <td>29.267000</td>\n",
       "    </tr>\n",
       "    <tr>\n",
       "      <th>3571481</th>\n",
       "      <td>3571481</td>\n",
       "      <td>AUGT</td>\n",
       "      <td>2024-07-03 00:00:00-04:00</td>\n",
       "      <td>29.221001</td>\n",
       "      <td>29.270000</td>\n",
       "      <td>29.180000</td>\n",
       "      <td>29.267000</td>\n",
       "      <td>2300.0</td>\n",
       "      <td>0.0</td>\n",
       "      <td>0.0</td>\n",
       "      <td>100.000000</td>\n",
       "      <td>100.000000</td>\n",
       "      <td>100.000000</td>\n",
       "      <td>29.139780</td>\n",
       "      <td>28.487777</td>\n",
       "      <td>27.003004</td>\n",
       "      <td>29.297001</td>\n",
       "    </tr>\n",
       "    <tr>\n",
       "      <th>3571482</th>\n",
       "      <td>3571482</td>\n",
       "      <td>AUGT</td>\n",
       "      <td>2024-07-05 00:00:00-04:00</td>\n",
       "      <td>29.240000</td>\n",
       "      <td>29.297001</td>\n",
       "      <td>29.240000</td>\n",
       "      <td>29.297001</td>\n",
       "      <td>500.0</td>\n",
       "      <td>0.0</td>\n",
       "      <td>0.0</td>\n",
       "      <td>100.000000</td>\n",
       "      <td>100.000000</td>\n",
       "      <td>100.000000</td>\n",
       "      <td>29.179086</td>\n",
       "      <td>28.519512</td>\n",
       "      <td>27.025830</td>\n",
       "      <td>29.332001</td>\n",
       "    </tr>\n",
       "    <tr>\n",
       "      <th>3571483</th>\n",
       "      <td>3571483</td>\n",
       "      <td>AUGT</td>\n",
       "      <td>2024-07-08 00:00:00-04:00</td>\n",
       "      <td>29.299999</td>\n",
       "      <td>29.340000</td>\n",
       "      <td>29.299999</td>\n",
       "      <td>29.332001</td>\n",
       "      <td>600.0</td>\n",
       "      <td>0.0</td>\n",
       "      <td>0.0</td>\n",
       "      <td>100.000000</td>\n",
       "      <td>100.000000</td>\n",
       "      <td>100.000000</td>\n",
       "      <td>29.217314</td>\n",
       "      <td>28.551374</td>\n",
       "      <td>27.048777</td>\n",
       "      <td>29.327000</td>\n",
       "    </tr>\n",
       "    <tr>\n",
       "      <th>3571484</th>\n",
       "      <td>3571484</td>\n",
       "      <td>AUGT</td>\n",
       "      <td>2024-07-09 00:00:00-04:00</td>\n",
       "      <td>29.368000</td>\n",
       "      <td>29.368000</td>\n",
       "      <td>29.299999</td>\n",
       "      <td>29.327000</td>\n",
       "      <td>4300.0</td>\n",
       "      <td>0.0</td>\n",
       "      <td>0.0</td>\n",
       "      <td>100.000000</td>\n",
       "      <td>100.000000</td>\n",
       "      <td>100.000000</td>\n",
       "      <td>29.244736</td>\n",
       "      <td>28.581791</td>\n",
       "      <td>27.071446</td>\n",
       "      <td>29.358999</td>\n",
       "    </tr>\n",
       "  </tbody>\n",
       "</table>\n",
       "<p>3480401 rows × 17 columns</p>\n",
       "</div>"
      ],
      "text/plain": [
       "          Series Ticker                       Date       Open       High  \\\n",
       "25            25   FGDL  2022-08-05 00:00:00-04:00  23.820000  23.820000   \n",
       "26            26   FGDL  2022-08-08 00:00:00-04:00  23.900999  23.952000   \n",
       "27            27   FGDL  2022-08-09 00:00:00-04:00  24.016001  24.070000   \n",
       "28            28   FGDL  2022-08-10 00:00:00-04:00  23.972000  23.975000   \n",
       "29            29   FGDL  2022-08-11 00:00:00-04:00  23.913000  23.913000   \n",
       "...          ...    ...                        ...        ...        ...   \n",
       "3571480  3571480   AUGT  2024-07-02 00:00:00-04:00  29.120001  29.195000   \n",
       "3571481  3571481   AUGT  2024-07-03 00:00:00-04:00  29.221001  29.270000   \n",
       "3571482  3571482   AUGT  2024-07-05 00:00:00-04:00  29.240000  29.297001   \n",
       "3571483  3571483   AUGT  2024-07-08 00:00:00-04:00  29.299999  29.340000   \n",
       "3571484  3571484   AUGT  2024-07-09 00:00:00-04:00  29.368000  29.368000   \n",
       "\n",
       "               Low      Close    Volume  Dividends  Stock Splits       RSI_9  \\\n",
       "25       23.768000  23.768000  210200.0        0.0           0.0   96.519827   \n",
       "26       23.900999  23.952000     200.0        0.0           0.0  100.000000   \n",
       "27       24.016001  24.049999   11300.0        0.0           0.0  100.000000   \n",
       "28       23.972000  23.975000     200.0        0.0           0.0  100.000000   \n",
       "29       23.913000  23.913000       0.0        0.0           0.0  100.000000   \n",
       "...            ...        ...       ...        ...           ...         ...   \n",
       "3571480  29.120001  29.195000     200.0        0.0           0.0  100.000000   \n",
       "3571481  29.180000  29.267000    2300.0        0.0           0.0  100.000000   \n",
       "3571482  29.240000  29.297001     500.0        0.0           0.0  100.000000   \n",
       "3571483  29.299999  29.332001     600.0        0.0           0.0  100.000000   \n",
       "3571484  29.299999  29.327000    4300.0        0.0           0.0  100.000000   \n",
       "\n",
       "             RSI_14      RSI_25     ewma_7    ewma_50   ewma_200  Close_target  \n",
       "25        57.326070    0.000000  23.655462  23.651515  23.995224     23.952000  \n",
       "26        62.375775    0.000000  23.729596  23.663299  23.994794     24.049999  \n",
       "27        67.369977   38.395312  23.809697  23.678464  23.995344     23.975000  \n",
       "28        78.593118   62.521736  23.851023  23.690093  23.995141     23.913000  \n",
       "29        89.394880   72.365015  23.866517  23.698834  23.994324     24.110001  \n",
       "...             ...         ...        ...        ...        ...           ...  \n",
       "3571480  100.000000  100.000000  29.097374  28.455972  26.980250     29.267000  \n",
       "3571481  100.000000  100.000000  29.139780  28.487777  27.003004     29.297001  \n",
       "3571482  100.000000  100.000000  29.179086  28.519512  27.025830     29.332001  \n",
       "3571483  100.000000  100.000000  29.217314  28.551374  27.048777     29.327000  \n",
       "3571484  100.000000  100.000000  29.244736  28.581791  27.071446     29.358999  \n",
       "\n",
       "[3480401 rows x 17 columns]"
      ]
     },
     "execution_count": 118,
     "metadata": {},
     "output_type": "execute_result"
    }
   ],
   "source": [
    "data = data.rename(columns={'Unnamed: 0': 'Series'})\n",
    "data"
   ]
  },
  {
   "cell_type": "markdown",
   "metadata": {},
   "source": [
    "##### Extraer fechas en formato que lean las series y eliminamos columnas no necesarias"
   ]
  },
  {
   "cell_type": "code",
   "execution_count": 119,
   "metadata": {},
   "outputs": [
    {
     "data": {
      "text/html": [
       "<div>\n",
       "<style scoped>\n",
       "    .dataframe tbody tr th:only-of-type {\n",
       "        vertical-align: middle;\n",
       "    }\n",
       "\n",
       "    .dataframe tbody tr th {\n",
       "        vertical-align: top;\n",
       "    }\n",
       "\n",
       "    .dataframe thead th {\n",
       "        text-align: right;\n",
       "    }\n",
       "</style>\n",
       "<table border=\"1\" class=\"dataframe\">\n",
       "  <thead>\n",
       "    <tr style=\"text-align: right;\">\n",
       "      <th></th>\n",
       "      <th>Series</th>\n",
       "      <th>Ticker</th>\n",
       "      <th>Date</th>\n",
       "      <th>Open</th>\n",
       "      <th>High</th>\n",
       "      <th>Low</th>\n",
       "      <th>Close</th>\n",
       "      <th>Volume</th>\n",
       "      <th>Dividends</th>\n",
       "      <th>Stock Splits</th>\n",
       "      <th>RSI_9</th>\n",
       "      <th>RSI_14</th>\n",
       "      <th>RSI_25</th>\n",
       "      <th>ewma_7</th>\n",
       "      <th>ewma_50</th>\n",
       "      <th>ewma_200</th>\n",
       "      <th>Close_target</th>\n",
       "    </tr>\n",
       "  </thead>\n",
       "  <tbody>\n",
       "    <tr>\n",
       "      <th>25</th>\n",
       "      <td>25</td>\n",
       "      <td>FGDL</td>\n",
       "      <td>2022-08-05 04:00:00+00:00</td>\n",
       "      <td>23.820000</td>\n",
       "      <td>23.820000</td>\n",
       "      <td>23.768000</td>\n",
       "      <td>23.768000</td>\n",
       "      <td>210200.0</td>\n",
       "      <td>0.0</td>\n",
       "      <td>0.0</td>\n",
       "      <td>96.519827</td>\n",
       "      <td>57.326070</td>\n",
       "      <td>0.000000</td>\n",
       "      <td>23.655462</td>\n",
       "      <td>23.651515</td>\n",
       "      <td>23.995224</td>\n",
       "      <td>23.952000</td>\n",
       "    </tr>\n",
       "    <tr>\n",
       "      <th>26</th>\n",
       "      <td>26</td>\n",
       "      <td>FGDL</td>\n",
       "      <td>2022-08-08 04:00:00+00:00</td>\n",
       "      <td>23.900999</td>\n",
       "      <td>23.952000</td>\n",
       "      <td>23.900999</td>\n",
       "      <td>23.952000</td>\n",
       "      <td>200.0</td>\n",
       "      <td>0.0</td>\n",
       "      <td>0.0</td>\n",
       "      <td>100.000000</td>\n",
       "      <td>62.375775</td>\n",
       "      <td>0.000000</td>\n",
       "      <td>23.729596</td>\n",
       "      <td>23.663299</td>\n",
       "      <td>23.994794</td>\n",
       "      <td>24.049999</td>\n",
       "    </tr>\n",
       "    <tr>\n",
       "      <th>27</th>\n",
       "      <td>27</td>\n",
       "      <td>FGDL</td>\n",
       "      <td>2022-08-09 04:00:00+00:00</td>\n",
       "      <td>24.016001</td>\n",
       "      <td>24.070000</td>\n",
       "      <td>24.016001</td>\n",
       "      <td>24.049999</td>\n",
       "      <td>11300.0</td>\n",
       "      <td>0.0</td>\n",
       "      <td>0.0</td>\n",
       "      <td>100.000000</td>\n",
       "      <td>67.369977</td>\n",
       "      <td>38.395312</td>\n",
       "      <td>23.809697</td>\n",
       "      <td>23.678464</td>\n",
       "      <td>23.995344</td>\n",
       "      <td>23.975000</td>\n",
       "    </tr>\n",
       "    <tr>\n",
       "      <th>28</th>\n",
       "      <td>28</td>\n",
       "      <td>FGDL</td>\n",
       "      <td>2022-08-10 04:00:00+00:00</td>\n",
       "      <td>23.972000</td>\n",
       "      <td>23.975000</td>\n",
       "      <td>23.972000</td>\n",
       "      <td>23.975000</td>\n",
       "      <td>200.0</td>\n",
       "      <td>0.0</td>\n",
       "      <td>0.0</td>\n",
       "      <td>100.000000</td>\n",
       "      <td>78.593118</td>\n",
       "      <td>62.521736</td>\n",
       "      <td>23.851023</td>\n",
       "      <td>23.690093</td>\n",
       "      <td>23.995141</td>\n",
       "      <td>23.913000</td>\n",
       "    </tr>\n",
       "    <tr>\n",
       "      <th>29</th>\n",
       "      <td>29</td>\n",
       "      <td>FGDL</td>\n",
       "      <td>2022-08-11 04:00:00+00:00</td>\n",
       "      <td>23.913000</td>\n",
       "      <td>23.913000</td>\n",
       "      <td>23.913000</td>\n",
       "      <td>23.913000</td>\n",
       "      <td>0.0</td>\n",
       "      <td>0.0</td>\n",
       "      <td>0.0</td>\n",
       "      <td>100.000000</td>\n",
       "      <td>89.394880</td>\n",
       "      <td>72.365015</td>\n",
       "      <td>23.866517</td>\n",
       "      <td>23.698834</td>\n",
       "      <td>23.994324</td>\n",
       "      <td>24.110001</td>\n",
       "    </tr>\n",
       "    <tr>\n",
       "      <th>...</th>\n",
       "      <td>...</td>\n",
       "      <td>...</td>\n",
       "      <td>...</td>\n",
       "      <td>...</td>\n",
       "      <td>...</td>\n",
       "      <td>...</td>\n",
       "      <td>...</td>\n",
       "      <td>...</td>\n",
       "      <td>...</td>\n",
       "      <td>...</td>\n",
       "      <td>...</td>\n",
       "      <td>...</td>\n",
       "      <td>...</td>\n",
       "      <td>...</td>\n",
       "      <td>...</td>\n",
       "      <td>...</td>\n",
       "      <td>...</td>\n",
       "    </tr>\n",
       "    <tr>\n",
       "      <th>3571480</th>\n",
       "      <td>3571480</td>\n",
       "      <td>AUGT</td>\n",
       "      <td>2024-07-02 04:00:00+00:00</td>\n",
       "      <td>29.120001</td>\n",
       "      <td>29.195000</td>\n",
       "      <td>29.120001</td>\n",
       "      <td>29.195000</td>\n",
       "      <td>200.0</td>\n",
       "      <td>0.0</td>\n",
       "      <td>0.0</td>\n",
       "      <td>100.000000</td>\n",
       "      <td>100.000000</td>\n",
       "      <td>100.000000</td>\n",
       "      <td>29.097374</td>\n",
       "      <td>28.455972</td>\n",
       "      <td>26.980250</td>\n",
       "      <td>29.267000</td>\n",
       "    </tr>\n",
       "    <tr>\n",
       "      <th>3571481</th>\n",
       "      <td>3571481</td>\n",
       "      <td>AUGT</td>\n",
       "      <td>2024-07-03 04:00:00+00:00</td>\n",
       "      <td>29.221001</td>\n",
       "      <td>29.270000</td>\n",
       "      <td>29.180000</td>\n",
       "      <td>29.267000</td>\n",
       "      <td>2300.0</td>\n",
       "      <td>0.0</td>\n",
       "      <td>0.0</td>\n",
       "      <td>100.000000</td>\n",
       "      <td>100.000000</td>\n",
       "      <td>100.000000</td>\n",
       "      <td>29.139780</td>\n",
       "      <td>28.487777</td>\n",
       "      <td>27.003004</td>\n",
       "      <td>29.297001</td>\n",
       "    </tr>\n",
       "    <tr>\n",
       "      <th>3571482</th>\n",
       "      <td>3571482</td>\n",
       "      <td>AUGT</td>\n",
       "      <td>2024-07-05 04:00:00+00:00</td>\n",
       "      <td>29.240000</td>\n",
       "      <td>29.297001</td>\n",
       "      <td>29.240000</td>\n",
       "      <td>29.297001</td>\n",
       "      <td>500.0</td>\n",
       "      <td>0.0</td>\n",
       "      <td>0.0</td>\n",
       "      <td>100.000000</td>\n",
       "      <td>100.000000</td>\n",
       "      <td>100.000000</td>\n",
       "      <td>29.179086</td>\n",
       "      <td>28.519512</td>\n",
       "      <td>27.025830</td>\n",
       "      <td>29.332001</td>\n",
       "    </tr>\n",
       "    <tr>\n",
       "      <th>3571483</th>\n",
       "      <td>3571483</td>\n",
       "      <td>AUGT</td>\n",
       "      <td>2024-07-08 04:00:00+00:00</td>\n",
       "      <td>29.299999</td>\n",
       "      <td>29.340000</td>\n",
       "      <td>29.299999</td>\n",
       "      <td>29.332001</td>\n",
       "      <td>600.0</td>\n",
       "      <td>0.0</td>\n",
       "      <td>0.0</td>\n",
       "      <td>100.000000</td>\n",
       "      <td>100.000000</td>\n",
       "      <td>100.000000</td>\n",
       "      <td>29.217314</td>\n",
       "      <td>28.551374</td>\n",
       "      <td>27.048777</td>\n",
       "      <td>29.327000</td>\n",
       "    </tr>\n",
       "    <tr>\n",
       "      <th>3571484</th>\n",
       "      <td>3571484</td>\n",
       "      <td>AUGT</td>\n",
       "      <td>2024-07-09 04:00:00+00:00</td>\n",
       "      <td>29.368000</td>\n",
       "      <td>29.368000</td>\n",
       "      <td>29.299999</td>\n",
       "      <td>29.327000</td>\n",
       "      <td>4300.0</td>\n",
       "      <td>0.0</td>\n",
       "      <td>0.0</td>\n",
       "      <td>100.000000</td>\n",
       "      <td>100.000000</td>\n",
       "      <td>100.000000</td>\n",
       "      <td>29.244736</td>\n",
       "      <td>28.581791</td>\n",
       "      <td>27.071446</td>\n",
       "      <td>29.358999</td>\n",
       "    </tr>\n",
       "  </tbody>\n",
       "</table>\n",
       "<p>3480401 rows × 17 columns</p>\n",
       "</div>"
      ],
      "text/plain": [
       "          Series Ticker                      Date       Open       High  \\\n",
       "25            25   FGDL 2022-08-05 04:00:00+00:00  23.820000  23.820000   \n",
       "26            26   FGDL 2022-08-08 04:00:00+00:00  23.900999  23.952000   \n",
       "27            27   FGDL 2022-08-09 04:00:00+00:00  24.016001  24.070000   \n",
       "28            28   FGDL 2022-08-10 04:00:00+00:00  23.972000  23.975000   \n",
       "29            29   FGDL 2022-08-11 04:00:00+00:00  23.913000  23.913000   \n",
       "...          ...    ...                       ...        ...        ...   \n",
       "3571480  3571480   AUGT 2024-07-02 04:00:00+00:00  29.120001  29.195000   \n",
       "3571481  3571481   AUGT 2024-07-03 04:00:00+00:00  29.221001  29.270000   \n",
       "3571482  3571482   AUGT 2024-07-05 04:00:00+00:00  29.240000  29.297001   \n",
       "3571483  3571483   AUGT 2024-07-08 04:00:00+00:00  29.299999  29.340000   \n",
       "3571484  3571484   AUGT 2024-07-09 04:00:00+00:00  29.368000  29.368000   \n",
       "\n",
       "               Low      Close    Volume  Dividends  Stock Splits       RSI_9  \\\n",
       "25       23.768000  23.768000  210200.0        0.0           0.0   96.519827   \n",
       "26       23.900999  23.952000     200.0        0.0           0.0  100.000000   \n",
       "27       24.016001  24.049999   11300.0        0.0           0.0  100.000000   \n",
       "28       23.972000  23.975000     200.0        0.0           0.0  100.000000   \n",
       "29       23.913000  23.913000       0.0        0.0           0.0  100.000000   \n",
       "...            ...        ...       ...        ...           ...         ...   \n",
       "3571480  29.120001  29.195000     200.0        0.0           0.0  100.000000   \n",
       "3571481  29.180000  29.267000    2300.0        0.0           0.0  100.000000   \n",
       "3571482  29.240000  29.297001     500.0        0.0           0.0  100.000000   \n",
       "3571483  29.299999  29.332001     600.0        0.0           0.0  100.000000   \n",
       "3571484  29.299999  29.327000    4300.0        0.0           0.0  100.000000   \n",
       "\n",
       "             RSI_14      RSI_25     ewma_7    ewma_50   ewma_200  Close_target  \n",
       "25        57.326070    0.000000  23.655462  23.651515  23.995224     23.952000  \n",
       "26        62.375775    0.000000  23.729596  23.663299  23.994794     24.049999  \n",
       "27        67.369977   38.395312  23.809697  23.678464  23.995344     23.975000  \n",
       "28        78.593118   62.521736  23.851023  23.690093  23.995141     23.913000  \n",
       "29        89.394880   72.365015  23.866517  23.698834  23.994324     24.110001  \n",
       "...             ...         ...        ...        ...        ...           ...  \n",
       "3571480  100.000000  100.000000  29.097374  28.455972  26.980250     29.267000  \n",
       "3571481  100.000000  100.000000  29.139780  28.487777  27.003004     29.297001  \n",
       "3571482  100.000000  100.000000  29.179086  28.519512  27.025830     29.332001  \n",
       "3571483  100.000000  100.000000  29.217314  28.551374  27.048777     29.327000  \n",
       "3571484  100.000000  100.000000  29.244736  28.581791  27.071446     29.358999  \n",
       "\n",
       "[3480401 rows x 17 columns]"
      ]
     },
     "execution_count": 119,
     "metadata": {},
     "output_type": "execute_result"
    }
   ],
   "source": [
    "data['Date'] = pd.to_datetime(data['Date'], utc=True)\n",
    "\n",
    "data"
   ]
  },
  {
   "cell_type": "code",
   "execution_count": 120,
   "metadata": {},
   "outputs": [],
   "source": [
    "data['Date'] = data['Date'].dt.date"
   ]
  },
  {
   "cell_type": "code",
   "execution_count": 121,
   "metadata": {},
   "outputs": [
    {
     "data": {
      "text/html": [
       "<div>\n",
       "<style scoped>\n",
       "    .dataframe tbody tr th:only-of-type {\n",
       "        vertical-align: middle;\n",
       "    }\n",
       "\n",
       "    .dataframe tbody tr th {\n",
       "        vertical-align: top;\n",
       "    }\n",
       "\n",
       "    .dataframe thead th {\n",
       "        text-align: right;\n",
       "    }\n",
       "</style>\n",
       "<table border=\"1\" class=\"dataframe\">\n",
       "  <thead>\n",
       "    <tr style=\"text-align: right;\">\n",
       "      <th></th>\n",
       "      <th>Date</th>\n",
       "      <th>Close</th>\n",
       "      <th>Ticker</th>\n",
       "    </tr>\n",
       "  </thead>\n",
       "  <tbody>\n",
       "    <tr>\n",
       "      <th>25</th>\n",
       "      <td>2022-08-05</td>\n",
       "      <td>23.768000</td>\n",
       "      <td>FGDL</td>\n",
       "    </tr>\n",
       "    <tr>\n",
       "      <th>26</th>\n",
       "      <td>2022-08-08</td>\n",
       "      <td>23.952000</td>\n",
       "      <td>FGDL</td>\n",
       "    </tr>\n",
       "    <tr>\n",
       "      <th>27</th>\n",
       "      <td>2022-08-09</td>\n",
       "      <td>24.049999</td>\n",
       "      <td>FGDL</td>\n",
       "    </tr>\n",
       "    <tr>\n",
       "      <th>28</th>\n",
       "      <td>2022-08-10</td>\n",
       "      <td>23.975000</td>\n",
       "      <td>FGDL</td>\n",
       "    </tr>\n",
       "    <tr>\n",
       "      <th>29</th>\n",
       "      <td>2022-08-11</td>\n",
       "      <td>23.913000</td>\n",
       "      <td>FGDL</td>\n",
       "    </tr>\n",
       "  </tbody>\n",
       "</table>\n",
       "</div>"
      ],
      "text/plain": [
       "          Date      Close Ticker\n",
       "25  2022-08-05  23.768000   FGDL\n",
       "26  2022-08-08  23.952000   FGDL\n",
       "27  2022-08-09  24.049999   FGDL\n",
       "28  2022-08-10  23.975000   FGDL\n",
       "29  2022-08-11  23.913000   FGDL"
      ]
     },
     "execution_count": 121,
     "metadata": {},
     "output_type": "execute_result"
    }
   ],
   "source": [
    "data = data[['Date', 'Close','Ticker']] \n",
    "\n",
    "data.head()"
   ]
  },
  {
   "cell_type": "markdown",
   "metadata": {},
   "source": [
    "Primero separamos el dataset por Ticker. Nos devuelve una lista de tuplas que contienen el nombre del Ticker en 0, y el dataframe en 1."
   ]
  },
  {
   "cell_type": "code",
   "execution_count": 122,
   "metadata": {},
   "outputs": [
    {
     "data": {
      "text/html": [
       "<div>\n",
       "<style scoped>\n",
       "    .dataframe tbody tr th:only-of-type {\n",
       "        vertical-align: middle;\n",
       "    }\n",
       "\n",
       "    .dataframe tbody tr th {\n",
       "        vertical-align: top;\n",
       "    }\n",
       "\n",
       "    .dataframe thead th {\n",
       "        text-align: right;\n",
       "    }\n",
       "</style>\n",
       "<table border=\"1\" class=\"dataframe\">\n",
       "  <thead>\n",
       "    <tr style=\"text-align: right;\">\n",
       "      <th></th>\n",
       "      <th>Date</th>\n",
       "      <th>Close</th>\n",
       "    </tr>\n",
       "  </thead>\n",
       "  <tbody>\n",
       "    <tr>\n",
       "      <th>1173759</th>\n",
       "      <td>2020-10-14</td>\n",
       "      <td>24.703897</td>\n",
       "    </tr>\n",
       "    <tr>\n",
       "      <th>1173760</th>\n",
       "      <td>2020-10-15</td>\n",
       "      <td>24.703897</td>\n",
       "    </tr>\n",
       "    <tr>\n",
       "      <th>1173761</th>\n",
       "      <td>2020-10-16</td>\n",
       "      <td>24.703897</td>\n",
       "    </tr>\n",
       "    <tr>\n",
       "      <th>1173762</th>\n",
       "      <td>2020-10-19</td>\n",
       "      <td>24.698940</td>\n",
       "    </tr>\n",
       "    <tr>\n",
       "      <th>1173763</th>\n",
       "      <td>2020-10-20</td>\n",
       "      <td>24.703897</td>\n",
       "    </tr>\n",
       "    <tr>\n",
       "      <th>...</th>\n",
       "      <td>...</td>\n",
       "      <td>...</td>\n",
       "    </tr>\n",
       "    <tr>\n",
       "      <th>1174692</th>\n",
       "      <td>2024-07-02</td>\n",
       "      <td>25.049999</td>\n",
       "    </tr>\n",
       "    <tr>\n",
       "      <th>1174693</th>\n",
       "      <td>2024-07-03</td>\n",
       "      <td>25.049999</td>\n",
       "    </tr>\n",
       "    <tr>\n",
       "      <th>1174694</th>\n",
       "      <td>2024-07-05</td>\n",
       "      <td>25.056000</td>\n",
       "    </tr>\n",
       "    <tr>\n",
       "      <th>1174695</th>\n",
       "      <td>2024-07-08</td>\n",
       "      <td>25.059999</td>\n",
       "    </tr>\n",
       "    <tr>\n",
       "      <th>1174696</th>\n",
       "      <td>2024-07-09</td>\n",
       "      <td>25.030001</td>\n",
       "    </tr>\n",
       "  </tbody>\n",
       "</table>\n",
       "<p>938 rows × 2 columns</p>\n",
       "</div>"
      ],
      "text/plain": [
       "               Date      Close\n",
       "1173759  2020-10-14  24.703897\n",
       "1173760  2020-10-15  24.703897\n",
       "1173761  2020-10-16  24.703897\n",
       "1173762  2020-10-19  24.698940\n",
       "1173763  2020-10-20  24.703897\n",
       "...             ...        ...\n",
       "1174692  2024-07-02  25.049999\n",
       "1174693  2024-07-03  25.049999\n",
       "1174694  2024-07-05  25.056000\n",
       "1174695  2024-07-08  25.059999\n",
       "1174696  2024-07-09  25.030001\n",
       "\n",
       "[938 rows x 2 columns]"
      ]
     },
     "execution_count": 122,
     "metadata": {},
     "output_type": "execute_result"
    }
   ],
   "source": [
    "prueba = [data for data in data.groupby('Ticker')]\n",
    "prueba[0][1].drop('Ticker', inplace=True, axis=1)\n",
    "prueba = prueba[0][1]\n",
    "prueba\n"
   ]
  },
  {
   "cell_type": "markdown",
   "metadata": {},
   "source": [
    "Date está como objeto y deberia estar como índice, por eso tengo problemas"
   ]
  },
  {
   "cell_type": "code",
   "execution_count": 123,
   "metadata": {},
   "outputs": [
    {
     "data": {
      "text/plain": [
       "Date      object\n",
       "Close    float64\n",
       "dtype: object"
      ]
     },
     "execution_count": 123,
     "metadata": {},
     "output_type": "execute_result"
    }
   ],
   "source": [
    "prueba.dtypes"
   ]
  },
  {
   "cell_type": "code",
   "execution_count": 124,
   "metadata": {},
   "outputs": [],
   "source": [
    "prueba['Date'] = pd.to_datetime(prueba['Date'])\n"
   ]
  },
  {
   "cell_type": "code",
   "execution_count": 125,
   "metadata": {},
   "outputs": [
    {
     "data": {
      "text/plain": [
       "Date     datetime64[ns]\n",
       "Close           float64\n",
       "dtype: object"
      ]
     },
     "execution_count": 125,
     "metadata": {},
     "output_type": "execute_result"
    }
   ],
   "source": [
    "prueba.dtypes"
   ]
  },
  {
   "cell_type": "code",
   "execution_count": 126,
   "metadata": {},
   "outputs": [],
   "source": [
    "prueba.set_index('Date', inplace=True)"
   ]
  },
  {
   "cell_type": "code",
   "execution_count": 127,
   "metadata": {},
   "outputs": [],
   "source": [
    "full_range = pd.date_range(start=prueba.index.min(), end=prueba.index.max(), freq='D')"
   ]
  },
  {
   "cell_type": "code",
   "execution_count": 128,
   "metadata": {},
   "outputs": [
    {
     "data": {
      "text/plain": [
       "DatetimeIndex(['2020-10-14', '2020-10-15', '2020-10-16', '2020-10-17',\n",
       "               '2020-10-18', '2020-10-19', '2020-10-20', '2020-10-21',\n",
       "               '2020-10-22', '2020-10-23',\n",
       "               ...\n",
       "               '2024-06-30', '2024-07-01', '2024-07-02', '2024-07-03',\n",
       "               '2024-07-04', '2024-07-05', '2024-07-06', '2024-07-07',\n",
       "               '2024-07-08', '2024-07-09'],\n",
       "              dtype='datetime64[ns]', length=1365, freq='D')"
      ]
     },
     "execution_count": 128,
     "metadata": {},
     "output_type": "execute_result"
    }
   ],
   "source": [
    "full_range"
   ]
  },
  {
   "cell_type": "code",
   "execution_count": 129,
   "metadata": {},
   "outputs": [],
   "source": [
    "prueba = prueba.reindex(full_range)"
   ]
  },
  {
   "cell_type": "code",
   "execution_count": 130,
   "metadata": {},
   "outputs": [
    {
     "data": {
      "text/plain": [
       "Close    float64\n",
       "dtype: object"
      ]
     },
     "execution_count": 130,
     "metadata": {},
     "output_type": "execute_result"
    }
   ],
   "source": [
    "prueba.dtypes"
   ]
  },
  {
   "cell_type": "markdown",
   "metadata": {},
   "source": [
    "Como ahora hay valores NaN, debemos imputarlos. Lo más usado es la interpolacion"
   ]
  },
  {
   "cell_type": "code",
   "execution_count": 131,
   "metadata": {},
   "outputs": [
    {
     "data": {
      "text/plain": [
       "Close    427\n",
       "dtype: int64"
      ]
     },
     "execution_count": 131,
     "metadata": {},
     "output_type": "execute_result"
    }
   ],
   "source": [
    "prueba.isnull().sum()"
   ]
  },
  {
   "cell_type": "code",
   "execution_count": 132,
   "metadata": {},
   "outputs": [],
   "source": [
    "prueba_interpolated = prueba.interpolate()"
   ]
  },
  {
   "cell_type": "code",
   "execution_count": 133,
   "metadata": {},
   "outputs": [
    {
     "data": {
      "text/html": [
       "<div>\n",
       "<style scoped>\n",
       "    .dataframe tbody tr th:only-of-type {\n",
       "        vertical-align: middle;\n",
       "    }\n",
       "\n",
       "    .dataframe tbody tr th {\n",
       "        vertical-align: top;\n",
       "    }\n",
       "\n",
       "    .dataframe thead th {\n",
       "        text-align: right;\n",
       "    }\n",
       "</style>\n",
       "<table border=\"1\" class=\"dataframe\">\n",
       "  <thead>\n",
       "    <tr style=\"text-align: right;\">\n",
       "      <th></th>\n",
       "      <th>Close</th>\n",
       "    </tr>\n",
       "  </thead>\n",
       "  <tbody>\n",
       "    <tr>\n",
       "      <th>2020-10-14</th>\n",
       "      <td>24.703897</td>\n",
       "    </tr>\n",
       "    <tr>\n",
       "      <th>2020-10-15</th>\n",
       "      <td>24.703897</td>\n",
       "    </tr>\n",
       "    <tr>\n",
       "      <th>2020-10-16</th>\n",
       "      <td>24.703897</td>\n",
       "    </tr>\n",
       "    <tr>\n",
       "      <th>2020-10-17</th>\n",
       "      <td>24.702245</td>\n",
       "    </tr>\n",
       "    <tr>\n",
       "      <th>2020-10-18</th>\n",
       "      <td>24.700593</td>\n",
       "    </tr>\n",
       "    <tr>\n",
       "      <th>2020-10-19</th>\n",
       "      <td>24.698940</td>\n",
       "    </tr>\n",
       "    <tr>\n",
       "      <th>2020-10-20</th>\n",
       "      <td>24.703897</td>\n",
       "    </tr>\n",
       "    <tr>\n",
       "      <th>2020-10-21</th>\n",
       "      <td>24.743572</td>\n",
       "    </tr>\n",
       "    <tr>\n",
       "      <th>2020-10-22</th>\n",
       "      <td>24.728693</td>\n",
       "    </tr>\n",
       "    <tr>\n",
       "      <th>2020-10-23</th>\n",
       "      <td>24.748526</td>\n",
       "    </tr>\n",
       "    <tr>\n",
       "      <th>2020-10-24</th>\n",
       "      <td>24.746874</td>\n",
       "    </tr>\n",
       "    <tr>\n",
       "      <th>2020-10-25</th>\n",
       "      <td>24.745223</td>\n",
       "    </tr>\n",
       "    <tr>\n",
       "      <th>2020-10-26</th>\n",
       "      <td>24.743572</td>\n",
       "    </tr>\n",
       "    <tr>\n",
       "      <th>2020-10-27</th>\n",
       "      <td>24.748526</td>\n",
       "    </tr>\n",
       "    <tr>\n",
       "      <th>2020-10-28</th>\n",
       "      <td>24.748526</td>\n",
       "    </tr>\n",
       "    <tr>\n",
       "      <th>2020-10-29</th>\n",
       "      <td>24.738609</td>\n",
       "    </tr>\n",
       "    <tr>\n",
       "      <th>2020-10-30</th>\n",
       "      <td>24.743572</td>\n",
       "    </tr>\n",
       "    <tr>\n",
       "      <th>2020-10-31</th>\n",
       "      <td>24.731329</td>\n",
       "    </tr>\n",
       "    <tr>\n",
       "      <th>2020-11-01</th>\n",
       "      <td>24.719086</td>\n",
       "    </tr>\n",
       "    <tr>\n",
       "      <th>2020-11-02</th>\n",
       "      <td>24.706842</td>\n",
       "    </tr>\n",
       "  </tbody>\n",
       "</table>\n",
       "</div>"
      ],
      "text/plain": [
       "                Close\n",
       "2020-10-14  24.703897\n",
       "2020-10-15  24.703897\n",
       "2020-10-16  24.703897\n",
       "2020-10-17  24.702245\n",
       "2020-10-18  24.700593\n",
       "2020-10-19  24.698940\n",
       "2020-10-20  24.703897\n",
       "2020-10-21  24.743572\n",
       "2020-10-22  24.728693\n",
       "2020-10-23  24.748526\n",
       "2020-10-24  24.746874\n",
       "2020-10-25  24.745223\n",
       "2020-10-26  24.743572\n",
       "2020-10-27  24.748526\n",
       "2020-10-28  24.748526\n",
       "2020-10-29  24.738609\n",
       "2020-10-30  24.743572\n",
       "2020-10-31  24.731329\n",
       "2020-11-01  24.719086\n",
       "2020-11-02  24.706842"
      ]
     },
     "execution_count": 133,
     "metadata": {},
     "output_type": "execute_result"
    }
   ],
   "source": [
    "prueba_interpolated.head(20)"
   ]
  },
  {
   "cell_type": "code",
   "execution_count": 134,
   "metadata": {},
   "outputs": [
    {
     "data": {
      "text/plain": [
       "<Axes: >"
      ]
     },
     "execution_count": 134,
     "metadata": {},
     "output_type": "execute_result"
    },
    {
     "data": {
      "image/png": "[encoded data removed]",
      "text/plain": [
       "<Figure size 800x550 with 1 Axes>"
      ]
     },
     "metadata": {},
     "output_type": "display_data"
    }
   ],
   "source": [
    "prueba_interpolated.plot()"
   ]
  },
  {
   "cell_type": "code",
   "execution_count": 135,
   "metadata": {},
   "outputs": [
    {
     "name": "stdout",
     "output_type": "stream",
     "text": [
      "\n",
      "DataFrame con Frecuencia Diaria Añadida:\n",
      "                Close\n",
      "2020-10-14  24.703897\n",
      "2020-10-15  24.703897\n",
      "2020-10-16  24.703897\n",
      "2020-10-17  24.702245\n",
      "2020-10-18  24.700593\n",
      "...               ...\n",
      "2024-07-05  25.056000\n",
      "2024-07-06  25.057333\n",
      "2024-07-07  25.058666\n",
      "2024-07-08  25.059999\n",
      "2024-07-09  25.030001\n",
      "\n",
      "[1365 rows x 1 columns]\n",
      "Frecuencia del índice actual: <Day>\n"
     ]
    }
   ],
   "source": [
    "print(\"\\nDataFrame con Frecuencia Diaria Añadida:\")\n",
    "print(prueba_interpolated)\n",
    "print(\"Frecuencia del índice actual:\", prueba_interpolated.index.freq)"
   ]
  },
  {
   "cell_type": "code",
   "execution_count": 136,
   "metadata": {},
   "outputs": [],
   "source": [
    "from pycaret.time_series import *\n",
    "from pycaret.time_series import TSForecastingExperiment\n",
    "from functions import *\n",
    "import numpy as np"
   ]
  },
  {
   "cell_type": "markdown",
   "metadata": {},
   "source": [
    "En esta funcion X_train e y_train es lo mismo, solo que divide la unica variable que hay ('Close')"
   ]
  },
  {
   "cell_type": "code",
   "execution_count": 137,
   "metadata": {},
   "outputs": [],
   "source": [
    "def data_train_test(series):\n",
    "\n",
    "\n",
    "    pct_train = int(len(series) * 0.6)\n",
    "    pct_val = int(len(series) * 0.2)\n",
    "    \n",
    "\n",
    "    train = series[:pct_train]\n",
    "    val = series[pct_train:pct_train + pct_val]\n",
    "    test = series[pct_train + pct_val:]\n",
    "    \n",
    "    return train, val, test\n",
    "\n",
    "# Uso de la función para dividir los datos\n",
    "train, val, test = data_train_test(prueba_interpolated)\n"
   ]
  },
  {
   "cell_type": "code",
   "execution_count": 138,
   "metadata": {},
   "outputs": [
    {
     "name": "stdout",
     "output_type": "stream",
     "text": [
      "Tamaño total de la serie: 1365\n",
      "Tamaño del conjunto de entrenamiento: 819\n",
      "Tamaño del conjunto de validación: 273\n",
      "Tamaño del conjunto de prueba: 273\n",
      "Suma de todos los tamaños: 1365\n"
     ]
    }
   ],
   "source": [
    "print(f\"Tamaño total de la serie: {len(prueba_interpolated)}\")\n",
    "print(f\"Tamaño del conjunto de entrenamiento: {len(train)}\")\n",
    "print(f\"Tamaño del conjunto de validación: {len(val)}\")\n",
    "print(f\"Tamaño del conjunto de prueba: {len(test)}\")\n",
    "print(f\"Suma de todos los tamaños: {len(train) + len(val) + len(test)}\")\n"
   ]
  },
  {
   "cell_type": "markdown",
   "metadata": {},
   "source": [
    "##### Una vez tenemos nuestra serie dividida vamos a entrenar los modelos que mas exito tuvieron en el Test02_Tseries"
   ]
  },
  {
   "cell_type": "markdown",
   "metadata": {},
   "source": [
    "### Exponential Smoothing:\n",
    "\n",
    "1. Descomponemos con el metodo 'additive' nuestra serie\n",
    "\n",
    "2. Entrenamos con train sobre los residuales\n",
    "\n",
    "3. Predecimos los residuales de validacion\n",
    "\n",
    "4. Reconstruimos la serie sumando las predicciones de residuales con la tendencia y estacionalidad de validacion\n",
    "\n",
    "5. Para predecir datos futuros que no podamos extraer la tendencia y estacionalidad, haremos la prediccion de residuales futuros y sumaremos la predicción de la tendencia y estacionalidad realizadas con modelos de regresion lineal."
   ]
  },
  {
   "cell_type": "markdown",
   "metadata": {},
   "source": [
    "#### Estrategia I: Descomposición serie"
   ]
  },
  {
   "cell_type": "code",
   "execution_count": 139,
   "metadata": {},
   "outputs": [],
   "source": [
    "from statsmodels.tsa.seasonal import seasonal_decompose\n",
    "from sklearn.metrics import mean_squared_error, r2_score\n",
    "\n",
    "# Descomposición aditiva. Vamos a seleccionar periodos semanales\n",
    "decomposition = seasonal_decompose(train['Close'], model='additive', period=7) #¿Cambio el periodo?\n",
    "trend = decomposition.trend.dropna()\n",
    "seasonal = decomposition.seasonal.dropna()\n",
    "residual = decomposition.resid.dropna()\n"
   ]
  },
  {
   "cell_type": "code",
   "execution_count": 140,
   "metadata": {},
   "outputs": [
    {
     "data": {
      "text/plain": [
       "<Figure size 3000x1300 with 0 Axes>"
      ]
     },
     "metadata": {},
     "output_type": "display_data"
    },
    {
     "data": {
      "image/png": "[encoded data removed]",
      "text/plain": [
       "<Figure size 800x550 with 3 Axes>"
      ]
     },
     "metadata": {},
     "output_type": "display_data"
    }
   ],
   "source": [
    "plt.figure(figsize=(30,13))\n",
    "\n",
    "fig, axs = plt.subplots(3)\n",
    "fig.suptitle(f'Descomposicion serie')\n",
    "axs[0].plot(trend)\n",
    "axs[0].set_title('Tendencia')\n",
    "axs[1].plot(seasonal)\n",
    "axs[1].set_title('Estacionalidad')\n",
    "axs[2].plot(residual)\n",
    "axs[2].set_title('Residuals')\n",
    "plt.show()\n",
    "\n",
    "plt.show()\n"
   ]
  },
  {
   "cell_type": "code",
   "execution_count": 141,
   "metadata": {},
   "outputs": [],
   "source": [
    "from statsmodels.tsa.holtwinters import ExponentialSmoothing\n",
    "\n",
    "# Ajuste del modelo\n",
    "exp_smooth_model = ExponentialSmoothing(residual.dropna(), trend=None, seasonal=None)\n",
    "exp_smooth_fit = exp_smooth_model.fit()\n",
    "\n",
    "# Predicción de los residuales en el conjunto de validación\n",
    "y_pred_residuals_exp = exp_smooth_fit.forecast(steps=len(val))\n",
    "\n",
    "# Obtener los componentes de tendencia y estacionalidad correspondientes al conjunto de validación\n",
    "# Tambien interpolamos los datos en caso de que se dieran Nans. En la tyendencia suele pasar\n",
    "\n",
    "trend_validation = decomposition.trend[-len(val):].interpolate(method = 'linear')\n",
    "seasonal_validation = decomposition.seasonal[:len(val)].interpolate(method='linear')\n",
    "\n"
   ]
  },
  {
   "cell_type": "code",
   "execution_count": 142,
   "metadata": {},
   "outputs": [
    {
     "data": {
      "text/plain": [
       "273"
      ]
     },
     "execution_count": 142,
     "metadata": {},
     "output_type": "execute_result"
    }
   ],
   "source": [
    "len(trend_validation.values)"
   ]
  },
  {
   "cell_type": "code",
   "execution_count": 143,
   "metadata": {},
   "outputs": [
    {
     "data": {
      "text/plain": [
       "273"
      ]
     },
     "execution_count": 143,
     "metadata": {},
     "output_type": "execute_result"
    }
   ],
   "source": [
    "len(seasonal_validation.values)"
   ]
  },
  {
   "cell_type": "markdown",
   "metadata": {},
   "source": [
    "##### Reconstruccion con tendencia y estacionalidad"
   ]
  },
  {
   "cell_type": "code",
   "execution_count": 151,
   "metadata": {},
   "outputs": [
    {
     "name": "stdout",
     "output_type": "stream",
     "text": [
      "MSE Exponential Smoothing: 0.12802350069292445\n",
      "R2 Exponential Smoothing: -7.578532760852216\n"
     ]
    }
   ],
   "source": [
    "# Reconstruimos la serie sumando la prediccion de resiuals y la tendencia y estacionalidad extraidas de validation\n",
    "\n",
    "y_pred_exp = trend_validation.values + seasonal_validation.values + y_pred_residuals_exp\n",
    "\n",
    "# Evaluación del modelo comparando la prediccion de Close en val mediante la descomposición y el dato original de Close en validation\n",
    "mse_exp = mean_squared_error(val['Close'], y_pred_exp)\n",
    "r2_exp = r2_score(val['Close'], y_pred_exp)\n",
    "print(f'MSE Exponential Smoothing: {mse_exp}')\n",
    "print(f'R2 Exponential Smoothing: {r2_exp}')\n"
   ]
  },
  {
   "cell_type": "markdown",
   "metadata": {},
   "source": [
    "##### Reconstrucción solo con tendencia"
   ]
  },
  {
   "cell_type": "code",
   "execution_count": 145,
   "metadata": {},
   "outputs": [
    {
     "name": "stdout",
     "output_type": "stream",
     "text": [
      "MSE Exponential Smoothing: 0.12803303700777727\n",
      "R2 Exponential Smoothing: -7.579171765323583\n"
     ]
    }
   ],
   "source": [
    "# Reconstruimos la serie sumando la prediccion de resiuals y la tendencia y estacionalidad extraidas de validation\n",
    "\n",
    "y_pred_exp = trend_validation.values + y_pred_residuals_exp\n",
    "\n",
    "# Evaluación del modelo comparando la prediccion de Close en val mediante la descomposición y el dato original de Close en validation\n",
    "mse_exp = mean_squared_error(val['Close'], y_pred_exp)\n",
    "r2_exp = r2_score(val['Close'], y_pred_exp)\n",
    "print(f'MSE Exponential Smoothing: {mse_exp}')\n",
    "print(f'R2 Exponential Smoothing: {r2_exp}')"
   ]
  },
  {
   "cell_type": "markdown",
   "metadata": {},
   "source": [
    "#### Estrategia II: Modelacion serie completa (sale ago mejor)"
   ]
  },
  {
   "cell_type": "code",
   "execution_count": 149,
   "metadata": {},
   "outputs": [
    {
     "name": "stdout",
     "output_type": "stream",
     "text": [
      "MSE Exponential Smoothing: 0.07256734168570313\n",
      "R2 Exponential Smoothing: -3.8625550359846264\n"
     ]
    }
   ],
   "source": [
    "from statsmodels.tsa.holtwinters import ExponentialSmoothing\n",
    "\n",
    "# Ajuste del modelo\n",
    "exp_smooth_model = ExponentialSmoothing(train.dropna(), trend='add', seasonal='add', seasonal_periods=24)\n",
    "exp_smooth_fit = exp_smooth_model.fit()\n",
    "\n",
    "# Predicción de los residuales en el conjunto de validación\n",
    "y_pred_exp = exp_smooth_fit.forecast(steps=len(val))\n",
    "\n",
    "mse_exp = mean_squared_error(val['Close'], y_pred_exp)\n",
    "r2_exp = r2_score(val['Close'], y_pred_exp)\n",
    "print(f'MSE Exponential Smoothing: {mse_exp}')\n",
    "print(f'R2 Exponential Smoothing: {r2_exp}')"
   ]
  }
 ],
 "metadata": {
  "kernelspec": {
   "display_name": "Python 3",
   "language": "python",
   "name": "python3"
  },
  "language_info": {
   "codemirror_mode": {
    "name": "ipython",
    "version": 3
   },
   "file_extension": ".py",
   "mimetype": "text/x-python",
   "name": "python",
   "nbconvert_exporter": "python",
   "pygments_lexer": "ipython3",
   "version": "3.11.9"
  }
 },
 "nbformat": 4,
 "nbformat_minor": 2
}
